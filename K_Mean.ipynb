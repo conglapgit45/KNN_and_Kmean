{
  "nbformat": 4,
  "nbformat_minor": 0,
  "metadata": {
    "colab": {
      "provenance": [],
      "authorship_tag": "ABX9TyMlGazmtSLzQN7w2uWMzA4O",
      "include_colab_link": true
    },
    "kernelspec": {
      "name": "python3",
      "display_name": "Python 3"
    },
    "language_info": {
      "name": "python"
    }
  },
  "cells": [
    {
      "cell_type": "markdown",
      "metadata": {
        "id": "view-in-github",
        "colab_type": "text"
      },
      "source": [
        "<a href=\"https://colab.research.google.com/github/conglapgit45/KNN_and_Kmean/blob/main/K_Mean.ipynb\" target=\"_parent\"><img src=\"https://colab.research.google.com/assets/colab-badge.svg\" alt=\"Open In Colab\"/></a>"
      ]
    },
    {
      "cell_type": "code",
      "source": [
        "import pandas as pd\n",
        "import numpy as np"
      ],
      "metadata": {
        "id": "80vp4OosWrwg"
      },
      "execution_count": 3,
      "outputs": []
    },
    {
      "cell_type": "code",
      "source": [
        "# Create data\n",
        "Feature_01 = np.array([2.0, 3.0, 3.5, 8.0, 8.5, 9.0, 1.0, 1.5])\n",
        "Feature_02 = np.array([3.0, 3.5, 3.0, 8.0, 8.5, 8.0, 2.0, 2.5])\n",
        "Feature_03 = np.array([1.5, 2.0, 2.5, 7.5, 8.0, 8.5, 1.0, 1.5])\n",
        "\n",
        "X = np.array([Feature_01, Feature_02, Feature_03]).T\n",
        "print(X)"
      ],
      "metadata": {
        "colab": {
          "base_uri": "https://localhost:8080/"
        },
        "id": "rCtPLqf3V3qw",
        "outputId": "18aa03ee-a6c4-4b37-80ae-c827a8fd69d2"
      },
      "execution_count": 11,
      "outputs": [
        {
          "output_type": "stream",
          "name": "stdout",
          "text": [
            "[[2.  3.  1.5]\n",
            " [3.  3.5 2. ]\n",
            " [3.5 3.  2.5]\n",
            " [8.  8.  7.5]\n",
            " [8.5 8.5 8. ]\n",
            " [9.  8.  8.5]\n",
            " [1.  2.  1. ]\n",
            " [1.5 2.5 1.5]]\n"
          ]
        }
      ]
    },
    {
      "cell_type": "code",
      "source": [
        "# set number of cluster and select centroids\n",
        "k = 2\n",
        "C1 = X[0]\n",
        "C2 = X[3]\n",
        "print(C1)\n",
        "print(C2)\n",
        "\n",
        "Centroids = np.array([C1, C2]).T\n",
        "print(Centroids)"
      ],
      "metadata": {
        "colab": {
          "base_uri": "https://localhost:8080/"
        },
        "id": "XQ65gUuiWmdZ",
        "outputId": "e6bde990-b986-4278-8598-248433700486"
      },
      "execution_count": 59,
      "outputs": [
        {
          "output_type": "stream",
          "name": "stdout",
          "text": [
            "[2.  3.  1.5]\n",
            "[8.  8.  7.5]\n",
            "[[2.  8. ]\n",
            " [3.  8. ]\n",
            " [1.5 7.5]]\n"
          ]
        }
      ]
    },
    {
      "cell_type": "code",
      "source": [
        "# compute distances\n",
        "distances = np.sqrt(np.sum(np.power(X[:, :, np.newaxis] - Centroids, 2), axis=1))\n",
        "print(distances)"
      ],
      "metadata": {
        "colab": {
          "base_uri": "https://localhost:8080/"
        },
        "id": "tVn-QaGAX0vY",
        "outputId": "7356c95b-12b6-4a39-87c3-a6fac504c724"
      },
      "execution_count": 60,
      "outputs": [
        {
          "output_type": "stream",
          "name": "stdout",
          "text": [
            "[[ 0.          9.8488578 ]\n",
            " [ 1.22474487  8.6890736 ]\n",
            " [ 1.80277564  8.38152731]\n",
            " [ 9.8488578   0.        ]\n",
            " [10.71214264  0.8660254 ]\n",
            " [11.09053651  1.41421356]\n",
            " [ 1.5        11.28051417]\n",
            " [ 0.70710678 10.41633333]]\n"
          ]
        }
      ]
    },
    {
      "cell_type": "code",
      "source": [
        "# assign cluster\n",
        "clusters = np.argmin(distances, axis=1)\n",
        "print(clusters)"
      ],
      "metadata": {
        "colab": {
          "base_uri": "https://localhost:8080/"
        },
        "id": "wiRPrIYccZm4",
        "outputId": "696e92ed-f5d7-4ed7-a320-fa71005fd2b0"
      },
      "execution_count": 61,
      "outputs": [
        {
          "output_type": "stream",
          "name": "stdout",
          "text": [
            "[0 0 0 1 1 1 0 0]\n"
          ]
        }
      ]
    },
    {
      "cell_type": "code",
      "source": [
        "# new centroids\n",
        "new_centroids = np.array([X[clusters == i].mean(axis=0) for i in range(k)])\n",
        "print(new_centroids)"
      ],
      "metadata": {
        "colab": {
          "base_uri": "https://localhost:8080/"
        },
        "id": "brPD9rCMhdfz",
        "outputId": "e8dc0522-026e-4717-c59b-afed87d6c558"
      },
      "execution_count": 57,
      "outputs": [
        {
          "output_type": "stream",
          "name": "stdout",
          "text": [
            "[[5.07142857 5.21428571 4.5       ]\n",
            " [1.         2.         1.        ]]\n"
          ]
        }
      ]
    }
  ]
}